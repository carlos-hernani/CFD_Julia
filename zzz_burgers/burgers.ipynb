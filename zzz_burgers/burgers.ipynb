{
 "cells": [
  {
   "cell_type": "code",
   "execution_count": 13,
   "metadata": {},
   "outputs": [
    {
     "data": {
      "text/plain": [
       "10-element Vector{Float64}:\n",
       " 0.05\n",
       " 0.15\n",
       " 0.25\n",
       " 0.35\n",
       " 0.45\n",
       " 0.55\n",
       " 0.65\n",
       " 0.75\n",
       " 0.85\n",
       " 0.95"
      ]
     },
     "metadata": {},
     "output_type": "display_data"
    }
   ],
   "source": [
    "dx = 1.0/10\n",
    "function ic(x)\n",
    "    sin(2*pi*x)\n",
    "end\n",
    "x = Array(0.5*dx:dx:1.0-0.5*dx)"
   ]
  },
  {
   "cell_type": "code",
   "execution_count": 26,
   "metadata": {},
   "outputs": [
    {
     "data": {
      "text/plain": [
       "40"
      ]
     },
     "metadata": {},
     "output_type": "display_data"
    }
   ],
   "source": [
    "xlim = (-1,1)\n",
    "dx = 1.0/20\n",
    "nx = Int64(abs((xlim[2]-xlim[1])/dx))\n",
    "nx"
   ]
  },
  {
   "cell_type": "code",
   "execution_count": 30,
   "metadata": {},
   "outputs": [
    {
     "data": {
      "text/plain": [
       "10×5 Matrix{Float64}:\n",
       " 5.0e-324  5.4e-323  1.04e-322  1.53e-322  2.03e-322\n",
       " 1.0e-323  6.0e-323  1.1e-322   1.6e-322   2.08e-322\n",
       " 1.5e-323  6.4e-323  1.14e-322  1.63e-322  2.1e-322\n",
       " 2.0e-323  7.0e-323  1.2e-322   1.7e-322   2.17e-322\n",
       " 2.5e-323  7.4e-323  1.24e-322  1.73e-322  2.2e-322\n",
       " 3.0e-323  8.0e-323  1.3e-322   1.8e-322   2.27e-322\n",
       " 3.5e-323  8.4e-323  1.33e-322  1.83e-322  2.3e-322\n",
       " 4.0e-323  9.0e-323  1.4e-322   1.9e-322   2.37e-322\n",
       " 4.4e-323  9.4e-323  1.43e-322  1.93e-322  2.4e-322\n",
       " 5.0e-323  1.0e-322  1.5e-322   2.0e-322   2.47e-322"
      ]
     },
     "metadata": {},
     "output_type": "display_data"
    }
   ],
   "source": [
    "nx = 10\n",
    "ns = 5\n",
    "u = Array{Float64}(undef, nx, ns)"
   ]
  },
  {
   "cell_type": "code",
   "execution_count": 31,
   "metadata": {},
   "outputs": [
    {
     "data": {
      "text/plain": [
       "10-element Vector{Float64}:\n",
       "  2.4492935982947064e-16\n",
       "  0.9848077530122081\n",
       "  0.34202014332566866\n",
       " -0.8660254037844383\n",
       " -0.6427876096865396\n",
       "  0.6427876096865396\n",
       "  0.866025403784439\n",
       " -0.34202014332566866\n",
       " -0.9848077530122081\n",
       " -2.4492935982947064e-16"
      ]
     },
     "metadata": {},
     "output_type": "display_data"
    }
   ],
   "source": [
    "x = LinRange(xlim[1], xlim[2], nx)\n",
    "u[:,1] = ic.(x)"
   ]
  },
  {
   "cell_type": "code",
   "execution_count": 32,
   "metadata": {},
   "outputs": [
    {
     "data": {
      "text/plain": [
       "10×5 Matrix{Float64}:\n",
       "  2.44929e-16  5.4e-323  1.04e-322  1.53e-322  2.03e-322\n",
       "  0.984808     6.0e-323  1.1e-322   1.6e-322   2.08e-322\n",
       "  0.34202      6.4e-323  1.14e-322  1.63e-322  2.1e-322\n",
       " -0.866025     7.0e-323  1.2e-322   1.7e-322   2.17e-322\n",
       " -0.642788     7.4e-323  1.24e-322  1.73e-322  2.2e-322\n",
       "  0.642788     8.0e-323  1.3e-322   1.8e-322   2.27e-322\n",
       "  0.866025     8.4e-323  1.33e-322  1.83e-322  2.3e-322\n",
       " -0.34202      9.0e-323  1.4e-322   1.9e-322   2.37e-322\n",
       " -0.984808     9.4e-323  1.43e-322  1.93e-322  2.4e-322\n",
       " -2.44929e-16  1.0e-322  1.5e-322   2.0e-322   2.47e-322"
      ]
     },
     "metadata": {},
     "output_type": "display_data"
    }
   ],
   "source": [
    "u"
   ]
  }
 ],
 "metadata": {
  "kernelspec": {
   "display_name": "Julia 1.7.0",
   "language": "julia",
   "name": "julia-1.7"
  },
  "language_info": {
   "file_extension": ".jl",
   "mimetype": "application/julia",
   "name": "julia",
   "version": "1.7.0"
  },
  "orig_nbformat": 4
 },
 "nbformat": 4,
 "nbformat_minor": 2
}
