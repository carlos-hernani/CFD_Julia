{
 "cells": [
  {
   "cell_type": "code",
   "execution_count": 13,
   "metadata": {},
   "outputs": [
    {
     "data": {
      "text/plain": [
       "10-element Vector{Float64}:\n",
       " 0.05\n",
       " 0.15\n",
       " 0.25\n",
       " 0.35\n",
       " 0.45\n",
       " 0.55\n",
       " 0.65\n",
       " 0.75\n",
       " 0.85\n",
       " 0.95"
      ]
     },
     "metadata": {},
     "output_type": "display_data"
    }
   ],
   "source": [
    "dx = 1.0/10\n",
    "function ic(x)\n",
    "    sin(2*pi*x)\n",
    "end\n",
    "x = Array(0.5*dx:dx:1.0-0.5*dx)"
   ]
  },
  {
   "cell_type": "code",
   "execution_count": 4,
   "metadata": {},
   "outputs": [
    {
     "data": {
      "text/plain": [
       "10-element Vector{Float64}:\n",
       "  0.5\n",
       "  2.0\n",
       "  4.5\n",
       "  8.0\n",
       " 12.5\n",
       " 18.0\n",
       " 24.5\n",
       " 32.0\n",
       " 40.5\n",
       " 50.0"
      ]
     },
     "metadata": {},
     "output_type": "display_data"
    }
   ],
   "source": [
    "utest = Array(1:1:10)\n",
    "function ff(u)\n",
    "    0.5*u^2\n",
    "end\n",
    "f = ff.(utest)"
   ]
  },
  {
   "cell_type": "code",
   "execution_count": 2,
   "metadata": {},
   "outputs": [
    {
     "data": {
      "text/plain": [
       "0"
      ]
     },
     "metadata": {},
     "output_type": "display_data"
    }
   ],
   "source": [
    "i = 5\n",
    "n = 10\n",
    "10%n"
   ]
  },
  {
   "cell_type": "code",
   "execution_count": 2,
   "metadata": {},
   "outputs": [
    {
     "data": {
      "text/plain": [
       "10-element Vector{Int64}:\n",
       "  1\n",
       "  2\n",
       "  3\n",
       "  4\n",
       "  5\n",
       "  6\n",
       "  7\n",
       "  8\n",
       "  9\n",
       " 10"
      ]
     },
     "metadata": {},
     "output_type": "display_data"
    }
   ],
   "source": [
    "z = Array(1:1:10)\n"
   ]
  },
  {
   "cell_type": "code",
   "execution_count": 3,
   "metadata": {},
   "outputs": [
    {
     "data": {
      "text/plain": [
       "10-element Vector{Float64}:\n",
       " 0.5\n",
       " 1.0\n",
       " 1.5\n",
       " 2.0\n",
       " 2.5\n",
       " 3.0\n",
       " 3.5\n",
       " 4.0\n",
       " 4.5\n",
       " 5.0"
      ]
     },
     "metadata": {},
     "output_type": "display_data"
    }
   ],
   "source": [
    "0.5*z"
   ]
  },
  {
   "cell_type": "code",
   "execution_count": 12,
   "metadata": {},
   "outputs": [
    {
     "data": {
      "text/plain": [
       "5:1:4"
      ]
     },
     "metadata": {},
     "output_type": "display_data"
    }
   ],
   "source": [
    "5:1:1"
   ]
  },
  {
   "cell_type": "code",
   "execution_count": 5,
   "metadata": {},
   "outputs": [
    {
     "data": {
      "text/plain": [
       "10-element Vector{Int64}:\n",
       "   1\n",
       "   4\n",
       "   9\n",
       "  16\n",
       "  25\n",
       "  36\n",
       "  49\n",
       "  64\n",
       "  81\n",
       " 100"
      ]
     },
     "metadata": {},
     "output_type": "display_data"
    }
   ],
   "source": [
    "z .* z"
   ]
  },
  {
   "cell_type": "code",
   "execution_count": 8,
   "metadata": {},
   "outputs": [
    {
     "data": {
      "text/plain": [
       "10-element Vector{Float64}:\n",
       "  1.5\n",
       "  3.0\n",
       "  5.5\n",
       "  9.0\n",
       " 13.5\n",
       " 19.0\n",
       " 25.5\n",
       " 33.0\n",
       " 41.5\n",
       " 51.0"
      ]
     },
     "metadata": {},
     "output_type": "display_data"
    }
   ],
   "source": [
    "f .+ f"
   ]
  },
  {
   "cell_type": "code",
   "execution_count": 26,
   "metadata": {},
   "outputs": [
    {
     "data": {
      "text/plain": [
       "40"
      ]
     },
     "metadata": {},
     "output_type": "display_data"
    }
   ],
   "source": [
    "xlim = (-1,1)\n",
    "dx = 1.0/20\n",
    "nx = Int64(abs((xlim[2]-xlim[1])/dx))\n",
    "nx"
   ]
  },
  {
   "cell_type": "code",
   "execution_count": 30,
   "metadata": {},
   "outputs": [
    {
     "data": {
      "text/plain": [
       "10×5 Matrix{Float64}:\n",
       " 5.0e-324  5.4e-323  1.04e-322  1.53e-322  2.03e-322\n",
       " 1.0e-323  6.0e-323  1.1e-322   1.6e-322   2.08e-322\n",
       " 1.5e-323  6.4e-323  1.14e-322  1.63e-322  2.1e-322\n",
       " 2.0e-323  7.0e-323  1.2e-322   1.7e-322   2.17e-322\n",
       " 2.5e-323  7.4e-323  1.24e-322  1.73e-322  2.2e-322\n",
       " 3.0e-323  8.0e-323  1.3e-322   1.8e-322   2.27e-322\n",
       " 3.5e-323  8.4e-323  1.33e-322  1.83e-322  2.3e-322\n",
       " 4.0e-323  9.0e-323  1.4e-322   1.9e-322   2.37e-322\n",
       " 4.4e-323  9.4e-323  1.43e-322  1.93e-322  2.4e-322\n",
       " 5.0e-323  1.0e-322  1.5e-322   2.0e-322   2.47e-322"
      ]
     },
     "metadata": {},
     "output_type": "display_data"
    }
   ],
   "source": [
    "nx = 10\n",
    "ns = 5\n",
    "u = Array{Float64}(undef, nx, ns)"
   ]
  },
  {
   "cell_type": "code",
   "execution_count": 31,
   "metadata": {},
   "outputs": [
    {
     "data": {
      "text/plain": [
       "10-element Vector{Float64}:\n",
       "  2.4492935982947064e-16\n",
       "  0.9848077530122081\n",
       "  0.34202014332566866\n",
       " -0.8660254037844383\n",
       " -0.6427876096865396\n",
       "  0.6427876096865396\n",
       "  0.866025403784439\n",
       " -0.34202014332566866\n",
       " -0.9848077530122081\n",
       " -2.4492935982947064e-16"
      ]
     },
     "metadata": {},
     "output_type": "display_data"
    }
   ],
   "source": [
    "x = LinRange(xlim[1], xlim[2], nx)\n",
    "u[:,1] = ic.(x)"
   ]
  },
  {
   "cell_type": "code",
   "execution_count": 26,
   "metadata": {},
   "outputs": [
    {
     "data": {
      "text/plain": [
       "wavespeed! (generic function with 1 method)"
      ]
     },
     "metadata": {},
     "output_type": "display_data"
    }
   ],
   "source": [
    "z = Array(1:1:10)\n",
    "function bcs_periodic(nx, u)\n",
    "    pbc_u = Array{Float64}(undef, nx+4)\n",
    "    pbc_u[3:nx+2] = u\n",
    "    pbc_u[1] = pbc_u[nx+1]\n",
    "    pbc_u[2] = pbc_u[nx+2]\n",
    "    pbc_u[nx+3] = pbc_u[3]\n",
    "    pbc_u[nx+4] = pbc_u[4]\n",
    "    return pbc_u\n",
    "end\n",
    "function wavespeed!(nx, u, a)\n",
    "    u_aux = bcs_periodic(nx, u)\n",
    "    a_aux = Array{Float64}(undef, nx+4)\n",
    "    for i = 3:nx+2\n",
    "        a_aux[i] = max(abs(u_aux[i-2]), abs(u_aux[i-1]),abs(u_aux[i]),abs(u_aux[i+1]),abs(u_aux[i+2]))\n",
    "    end\n",
    "    return a_aux[3:nx+2]\n",
    "end"
   ]
  },
  {
   "cell_type": "code",
   "execution_count": 27,
   "metadata": {},
   "outputs": [
    {
     "data": {
      "text/plain": [
       "10-element Vector{Float64}:\n",
       " 1.5e-323\n",
       " 1.6e-322\n",
       " 2.1940832735e-314\n",
       " 4.94e-322\n",
       " 4.94e-321\n",
       " 1.235e-321\n",
       " 1.0e-322\n",
       " 1.5e-323\n",
       " 1.6e-322\n",
       " 2.0e-323"
      ]
     },
     "metadata": {},
     "output_type": "display_data"
    }
   ],
   "source": [
    "nx = 10\n",
    "a = Array{Float64}(undef, nx)\n",
    "a"
   ]
  },
  {
   "cell_type": "code",
   "execution_count": 28,
   "metadata": {},
   "outputs": [
    {
     "data": {
      "text/plain": [
       "10-element Vector{Float64}:\n",
       " 10.0\n",
       " 10.0\n",
       "  5.0\n",
       "  6.0\n",
       "  7.0\n",
       "  8.0\n",
       "  9.0\n",
       " 10.0\n",
       " 10.0\n",
       " 10.0"
      ]
     },
     "metadata": {},
     "output_type": "display_data"
    }
   ],
   "source": [
    "wavespeed!(nx, z, a)"
   ]
  }
 ],
 "metadata": {
  "kernelspec": {
   "display_name": "Julia 1.7.0",
   "language": "julia",
   "name": "julia-1.7"
  },
  "language_info": {
   "file_extension": ".jl",
   "mimetype": "application/julia",
   "name": "julia",
   "version": "1.7.0"
  },
  "orig_nbformat": 4
 },
 "nbformat": 4,
 "nbformat_minor": 2
}
